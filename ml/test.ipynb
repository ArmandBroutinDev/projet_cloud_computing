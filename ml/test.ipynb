{
 "cells": [
  {
   "cell_type": "code",
   "execution_count": 1,
   "metadata": {},
   "outputs": [],
   "source": [
    "import numpy as np\n",
    "import pandas as pd\n",
    "import sklearn as skn\n",
    "import matplotlib.pyplot as plt\n",
    "from sklearn.model_selection import train_test_split\n",
    "from utils.utils import DataHandler, FeatureRecipe, FeatureExtractor"
   ]
  },
  {
   "cell_type": "code",
   "execution_count": 2,
   "metadata": {},
   "outputs": [
    {
     "output_type": "stream",
     "name": "stdout",
     "text": [
      "DataHandlerintialisation\nintialisation done\n"
     ]
    }
   ],
   "source": [
    "dt = DataHandler()"
   ]
  },
  {
   "cell_type": "code",
   "execution_count": 3,
   "metadata": {},
   "outputs": [
    {
     "output_type": "stream",
     "name": "stdout",
     "text": [
      "loading data from bucket\n",
      "data loaded from bucket\n",
      "merging data\n",
      "size of the merged data : 999 lines, 20 columns\n",
      "end of processing\n",
      "\n"
     ]
    }
   ],
   "source": [
    "dt.get_process_data()"
   ]
  },
  {
   "cell_type": "code",
   "execution_count": 4,
   "metadata": {},
   "outputs": [
    {
     "output_type": "stream",
     "name": "stdout",
     "text": [
      "FeatureRecipe intialisation\nend of intialisation\ndropping useless columns\ndone dropping\ndropping columns with 0.3 percentage \ndropped 0 columns\ndropping duplicated rows\ndropping column :is_business_travel_ready\nduplicated rows dropped\nseparating columns\ndataset column size : 18 \nnumber of discreet values : 4 \nnumber of continuous values : 6 \nnumber of others : 8 \ntaille total : 18\nend of FeatureRecipe processing\n\n"
     ]
    }
   ],
   "source": [
    "fr = FeatureRecipe(dt.df_res)\n",
    "fr.get_process_data(0.3)"
   ]
  },
  {
   "cell_type": "code",
   "execution_count": 6,
   "metadata": {},
   "outputs": [],
   "source": [
    "flist = ['listing_id','name','type','city','neighborhood','latitude','longitude','is_rebookable','is_new_listing','is_fully_refundable','is_host_highly_rated']"
   ]
  },
  {
   "cell_type": "code",
   "execution_count": 7,
   "metadata": {},
   "outputs": [
    {
     "output_type": "stream",
     "name": "stdout",
     "text": [
      "FeatureExtractor intialisation\nintialisation done\nextracting unwanted columns\ndone extracting unwanted columns\nsplitting dataset for train and test\nsplitting done\ndone processing Feature Extractor\n"
     ]
    }
   ],
   "source": [
    "fe = FeatureExtractor(fr.df,flist)\n",
    "X_trn, X_tst, y_trn, y_tst = fe.get_process_data()"
   ]
  },
  {
   "cell_type": "code",
   "execution_count": 11,
   "metadata": {},
   "outputs": [
    {
     "output_type": "execute_result",
     "data": {
      "text/plain": [
       "453      79.810390\n",
       "793     125.000000\n",
       "209      95.453333\n",
       "309      29.000000\n",
       "740      82.588391\n",
       "          ...     \n",
       "314     718.092784\n",
       "404     517.996183\n",
       "7       213.324607\n",
       "155      79.000000\n",
       "809    1300.000000\n",
       "Name: local_price, Length: 300, dtype: float64"
      ]
     },
     "metadata": {},
     "execution_count": 11
    }
   ],
   "source": [
    "fe.y_test"
   ]
  },
  {
   "cell_type": "code",
   "execution_count": 13,
   "metadata": {},
   "outputs": [
    {
     "output_type": "execute_result",
     "data": {
      "text/plain": [
       "   person_capacity  beds  bedrooms  bathrooms  pricing_weekly_factor  \\\n",
       "0                1     1         1        2.0                   1.00   \n",
       "1                2     1         1        1.0                   0.88   \n",
       "2                1     1         1        1.0                   1.00   \n",
       "3                3     2         2        1.0                   0.82   \n",
       "4                2     1         1        1.0                   0.95   \n",
       "\n",
       "   pricing_monthly_factor  local_price  \n",
       "0                    1.00    45.948454  \n",
       "1                    0.69    44.473684  \n",
       "2                    1.00    49.000000  \n",
       "3                    0.48   165.000000  \n",
       "4                    0.90    69.774436  "
      ],
      "text/html": "<div>\n<style scoped>\n    .dataframe tbody tr th:only-of-type {\n        vertical-align: middle;\n    }\n\n    .dataframe tbody tr th {\n        vertical-align: top;\n    }\n\n    .dataframe thead th {\n        text-align: right;\n    }\n</style>\n<table border=\"1\" class=\"dataframe\">\n  <thead>\n    <tr style=\"text-align: right;\">\n      <th></th>\n      <th>person_capacity</th>\n      <th>beds</th>\n      <th>bedrooms</th>\n      <th>bathrooms</th>\n      <th>pricing_weekly_factor</th>\n      <th>pricing_monthly_factor</th>\n      <th>local_price</th>\n    </tr>\n  </thead>\n  <tbody>\n    <tr>\n      <th>0</th>\n      <td>1</td>\n      <td>1</td>\n      <td>1</td>\n      <td>2.0</td>\n      <td>1.00</td>\n      <td>1.00</td>\n      <td>45.948454</td>\n    </tr>\n    <tr>\n      <th>1</th>\n      <td>2</td>\n      <td>1</td>\n      <td>1</td>\n      <td>1.0</td>\n      <td>0.88</td>\n      <td>0.69</td>\n      <td>44.473684</td>\n    </tr>\n    <tr>\n      <th>2</th>\n      <td>1</td>\n      <td>1</td>\n      <td>1</td>\n      <td>1.0</td>\n      <td>1.00</td>\n      <td>1.00</td>\n      <td>49.000000</td>\n    </tr>\n    <tr>\n      <th>3</th>\n      <td>3</td>\n      <td>2</td>\n      <td>2</td>\n      <td>1.0</td>\n      <td>0.82</td>\n      <td>0.48</td>\n      <td>165.000000</td>\n    </tr>\n    <tr>\n      <th>4</th>\n      <td>2</td>\n      <td>1</td>\n      <td>1</td>\n      <td>1.0</td>\n      <td>0.95</td>\n      <td>0.90</td>\n      <td>69.774436</td>\n    </tr>\n  </tbody>\n</table>\n</div>"
     },
     "metadata": {},
     "execution_count": 13
    }
   ],
   "source": [
    "fr.df.head()"
   ]
  }
 ],
 "metadata": {
  "kernelspec": {
   "display_name": "Python 3",
   "language": "python",
   "name": "python3"
  },
  "language_info": {
   "codemirror_mode": {
    "name": "ipython",
    "version": 3
   },
   "file_extension": ".py",
   "mimetype": "text/x-python",
   "name": "python",
   "nbconvert_exporter": "python",
   "pygments_lexer": "ipython3",
   "version": "3.6.9-final"
  }
 },
 "nbformat": 4,
 "nbformat_minor": 4
}