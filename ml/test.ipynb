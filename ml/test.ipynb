{
 "cells": [
  {
   "cell_type": "code",
   "execution_count": 2,
   "metadata": {},
   "outputs": [],
   "source": [
    "import numpy as np\n",
    "import pandas as pd"
   ]
  },
  {
   "cell_type": "code",
   "execution_count": 3,
   "metadata": {},
   "outputs": [],
   "source": [
    "class DataHandler:\n",
    "    def __init__(self):\n",
    "        print(\"intialisation\")\n",
    "        self.df_lf = None\n",
    "        self.df_pa = None\n",
    "        self.df_res = None\n",
    "        print(\"intialisation done\")\n",
    "    def get_data(self):\n",
    "        print(\"loading data from bucket\")\n",
    "        self.df_lf = pd.read_csv(\"https://storage.googleapis.com/h3-data/listings_final.csv\",sep=';')\n",
    "        self.df_pa = pd.read_csv(\"https://storage.googleapis.com/h3-data/price_availability.csv\",sep=';')\n",
    "        print(\"data loaded from bucket\")\n",
    "\n",
    "    def group_data(self):\n",
    "        print(\"merging data\")\n",
    "        self.df_res = pd.merge(self.df_lf,self.df_pa.groupby('listing_id')['local_price'].mean('local_price'),how='inner', on='listing_id')\n",
    "        print(\"size of the merged data : {} lines, {} columns\".format(self.df_res.shape[0],self.df_res.shape[1]))\n",
    "\n",
    "    def get_process_data(self):\n",
    "        self.get_data()\n",
    "        self.group_data()"
   ]
  },
  {
   "cell_type": "code",
   "execution_count": 4,
   "metadata": {},
   "outputs": [
    {
     "output_type": "stream",
     "name": "stdout",
     "text": [
      "intialisation\nintialisation done\n"
     ]
    }
   ],
   "source": [
    "dt = DataHandler()"
   ]
  },
  {
   "cell_type": "code",
   "execution_count": 5,
   "metadata": {},
   "outputs": [
    {
     "output_type": "stream",
     "name": "stdout",
     "text": [
      "loading data from bucket\n",
      "data loaded from bucket\n",
      "merging data\n",
      "size of the merged data : 999 lines, 20 columns\n"
     ]
    }
   ],
   "source": [
    "dt.get_process_data()"
   ]
  },
  {
   "cell_type": "code",
   "execution_count": 6,
   "metadata": {},
   "outputs": [],
   "source": [
    "class FeatureRecipe:\n",
    "\n",
    "    def __init__(self,df:pd.DataFrame):\n",
    "        print(\"FeatureRecipe intialisation\")\n",
    "        self.df = df\n",
    "        self.cate = []\n",
    "        self.floa = []\n",
    "        self.intt = []\n",
    "        self.drop = []\n",
    "        print(\"end of intialisation\\n\")\n",
    "\n",
    "    def separate_variable_types(self) -> None:\n",
    "        print(\"separating columns\")\n",
    "        for col in self.df.columns:\n",
    "            if self.df[col].dtypes == int:\n",
    "                self.intt.append(self.df[col])\n",
    "            elif self.df[col].dtypes == float:\n",
    "                self.floa.append(self.df[col])\n",
    "            else:\n",
    "                self.cate.append(self.df[col])\n",
    "        print (\"dataset column size : {} \\nnumber of discreet values : {} \\nnumber of continuous values : {} \\nnumber of others : {} \\ntaille total : {}\".format(len(self.df.columns),len(self.intt),len(self.floa),len(self.cate),len(self.intt)+len(self.floa)+len(self.cate) ))\n",
    "\n",
    "    def drop_na_prct(self,threshold : float):\n",
    "        \"\"\"\n",
    "            on appelle la commande et on met un threshold entre 1 et 0 en flottant\n",
    "            params: threshold : float\n",
    "        \"\"\"\n",
    "        # par rapport a la colonne\n",
    "        dropped = 0\n",
    "        print(\"dropping columns with {} percentage \".format(threshold))\n",
    "        for col in self.df.columns:\n",
    "            if self.df[col].isna().sum()/self.df.shape[0] >= threshold:\n",
    "                self.drop.append( self.df.drop([col], axis='columns', inplace=True) )\n",
    "                dropped+=1\n",
    "        print(\"dropped {} columns\".format(dropped))\n",
    "\n",
    "    def drop_useless_features(self):\n",
    "        # droper les col vides et doublons de l'index et les colonnes qu'on va considerer inutile\n",
    "        print(\"dropping useless columns\")\n",
    "        dropped = 0\n",
    "        if 'Unnamed: 0' in self.df.columns:\n",
    "            self.df.drop(['Unnamed: 0'], axis='columns', inplace=True)\n",
    "            dropped+=1\n",
    "        for col in self.df.columns:\n",
    "            if self.df[col].isna().sum() == len(self.df):\n",
    "                self.df.drop([col], axis='columns', inplace=True)\n",
    "                dropped+=1\n",
    "        print(\"done dropping {} column(s)\".format(dropped))\n",
    "\n",
    "\n",
    "    def drop_duplicate(self):\n",
    "        # comparer les colonnes et voir si elles sont dupliquées\n",
    "        print(\"dropping duplicated rows\")\n",
    "        self.df.drop_duplicates(inplace=True)\n",
    "        duplicates = self.get_duplicates()\n",
    "        for col in duplicates:\n",
    "            print(\"dropping column :{}\".format(col))\n",
    "            self.df.drop([col], axis='columns', inplace=True)\n",
    "        print(\"duplicated rows dropped\")\n",
    "\n",
    "    def get_duplicates(self):\n",
    "        duplicates = []\n",
    "        #for col in self.df.columns:\n",
    "            #for scol in self.df.columns:\n",
    "        for col in range(self.df.shape[1]):\n",
    "            for scol in range(col+1,self.df.shape[1]):\n",
    "                if self.df.iloc[:,col].equals(self.df.iloc[:,scol]):\n",
    "                    duplicates.append(self.df.iloc[:,scol].name)\n",
    "        return duplicates\n",
    "\n",
    "#   def deal_date_time(self):\n",
    "#        pass\n",
    "    def get_process_data(self,threshold : float):\n",
    "        self.separate_variable_types()\n",
    "        self.drop_useless_features()\n",
    "        self.drop_na_prct(threshold)\n",
    "        self.drop_duplicate()\n",
    "        print(\"end of FeatureRecipe processing\")"
   ]
  },
  {
   "cell_type": "code",
   "execution_count": 7,
   "metadata": {},
   "outputs": [
    {
     "output_type": "stream",
     "name": "stdout",
     "text": [
      "FeatureRecipe intialisation\nend of intialisation\n\nseparating columns\ndataset column size : 20 \nnumber of discreet values : 5 \nnumber of continuous values : 6 \nnumber of others : 9 \ntaille total : 20\ndropping useless columns\ndone dropping 1 column(s)\ndropping columns with 0.3 percentage \ndropped 0 columns\ndropping duplicated rows\ndropping column :is_business_travel_ready\nduplicated rows dropped\nend of FeatureRecipe processing\n"
     ]
    }
   ],
   "source": [
    "fr = FeatureRecipe(dt.df_res)\n",
    "fr.get_process_data(0.3)"
   ]
  },
  {
   "cell_type": "code",
   "execution_count": 8,
   "metadata": {},
   "outputs": [],
   "source": [
    "import sklearn as skn\n",
    "import matplotlib as plt\n",
    "from sklearn.model_selection import train_test_split"
   ]
  },
  {
   "cell_type": "code",
   "execution_count": 9,
   "metadata": {},
   "outputs": [],
   "source": [
    "\n",
    "class FeatureExtractor:\n",
    "    \"\"\"\n",
    "    Feature Extractor class\n",
    "    \"\"\"\n",
    "    def __init__(self, data: pd.DataFrame, flist: list):\n",
    "        \"\"\"\n",
    "            Input : pandas.DataFrame, feature list to drop\n",
    "            Output : X_train, X_test, y_train, y_test according to sklearn.model_selection.train_test_split\n",
    "        \"\"\"\n",
    "        print(\"FeatureExtractor intialisation\")\n",
    "        self.X_train, self.X_test, self.y_train, self.y_test = None,None,None,None\n",
    "        self.df = data\n",
    "        self.flist = flist\n",
    "        print(\"intialisation done\")\n",
    "\n",
    "    def extractor(self):\n",
    "        print(\"extracting unwanted columns\")\n",
    "        for col in self.flist:\n",
    "            if col in self.df:\n",
    "                self.df.drop(col, axis=1, inplace=True)\n",
    "        print(\"done extracting unwanted columns\")\n",
    "\n",
    "    def splitting(self, size:float,rng:int, y:str):\n",
    "        print(\"splitting dataset for train and test\")\n",
    "        x = self.df.loc[:,self.df.columns != y]\n",
    "        self.X_train, self.X_test, self.y_train, self.y_test = train_test_split(x, self.df[y], test_size=size, random_state=rng)\n",
    "        print(\"splitting done\")\n",
    "\n",
    "    def get_process_data(self):\n",
    "        self.extractor()\n",
    "        self.splitting(0.3,42,'local_price')\n",
    "        print(\"done processing Feature Extractor\")\n",
    "        return self.X_train, self.X_test, self.y_train, self.y_test\n"
   ]
  },
  {
   "cell_type": "code",
   "execution_count": 10,
   "metadata": {},
   "outputs": [],
   "source": [
    "flist = ['listing_id','name','type','city','neighborhood','latitude','longitude','is_rebookable','is_new_listing','is_fully_refundable','is_host_highly_rated']"
   ]
  },
  {
   "cell_type": "code",
   "execution_count": 11,
   "metadata": {},
   "outputs": [
    {
     "output_type": "stream",
     "name": "stdout",
     "text": [
      "FeatureExtractor intialisation\nintialisation done\nextracting unwanted columns\ndone extracting unwanted columns\nsplitting dataset for train and test\nsplitting done\ndone processing Feature Extractor\n"
     ]
    }
   ],
   "source": [
    "fe = FeatureExtractor(fr.df,flist)\n",
    "X_trn, X_tst, y_trn, y_tst = fe.get_process_data()"
   ]
  },
  {
   "cell_type": "code",
   "execution_count": 12,
   "metadata": {},
   "outputs": [
    {
     "output_type": "execute_result",
     "data": {
      "text/plain": [
       "453      79.810390\n",
       "793     125.000000\n",
       "209      95.453333\n",
       "309      29.000000\n",
       "740      82.588391\n",
       "          ...     \n",
       "314     718.092784\n",
       "404     517.996183\n",
       "7       213.324607\n",
       "155      79.000000\n",
       "809    1300.000000\n",
       "Name: local_price, Length: 300, dtype: float64"
      ]
     },
     "metadata": {},
     "execution_count": 12
    }
   ],
   "source": [
    "fe.y_test"
   ]
  },
  {
   "cell_type": "code",
   "execution_count": 19,
   "metadata": {},
   "outputs": [
    {
     "output_type": "error",
     "ename": "AttributeError",
     "evalue": "module 'matplotlib' has no attribute 'pyplot'",
     "traceback": [
      "\u001b[0;31m---------------------------------------------------------------------------\u001b[0m",
      "\u001b[0;31mAttributeError\u001b[0m                            Traceback (most recent call last)",
      "\u001b[0;32m<ipython-input-19-0051120f8e43>\u001b[0m in \u001b[0;36m<module>\u001b[0;34m\u001b[0m\n\u001b[0;32m----> 1\u001b[0;31m \u001b[0mplt\u001b[0m\u001b[0;34m.\u001b[0m\u001b[0mpyplot\u001b[0m\u001b[0;34m(\u001b[0m\u001b[0mfe\u001b[0m\u001b[0;34m.\u001b[0m\u001b[0mdf\u001b[0m\u001b[0;34m[\u001b[0m\u001b[0;34m\"listing_id\"\u001b[0m\u001b[0;34m]\u001b[0m\u001b[0;34m,\u001b[0m\u001b[0mfe\u001b[0m\u001b[0;34m.\u001b[0m\u001b[0mdf\u001b[0m\u001b[0;34m[\u001b[0m\u001b[0;34m\"local_price\"\u001b[0m\u001b[0;34m]\u001b[0m\u001b[0;34m)\u001b[0m\u001b[0;34m\u001b[0m\u001b[0;34m\u001b[0m\u001b[0m\n\u001b[0m",
      "\u001b[0;31mAttributeError\u001b[0m: module 'matplotlib' has no attribute 'pyplot'"
     ]
    }
   ],
   "source": [
    "plt.pyplot.plot(fe.df[\"listing_id\"],fe.df[\"local_price\"])"
   ]
  },
  {
   "cell_type": "code",
   "execution_count": null,
   "metadata": {},
   "outputs": [],
   "source": []
  }
 ],
 "metadata": {
  "kernelspec": {
   "display_name": "Python 3",
   "language": "python",
   "name": "python3"
  },
  "language_info": {
   "codemirror_mode": {
    "name": "ipython",
    "version": 3
   },
   "file_extension": ".py",
   "mimetype": "text/x-python",
   "name": "python",
   "nbconvert_exporter": "python",
   "pygments_lexer": "ipython3",
   "version": "3.6.9-final"
  }
 },
 "nbformat": 4,
 "nbformat_minor": 4
}